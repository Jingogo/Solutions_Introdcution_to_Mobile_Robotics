{
 "cells": [
  {
   "cell_type": "markdown",
   "metadata": {},
   "source": [
    "### Exercise 1: Bayes Rule"
   ]
  },
  {
   "cell_type": "markdown",
   "metadata": {},
   "source": [
    "(a)\n",
    "\n",
    "<img src=\"./imgs/solution4_1b.jpg\" width=\"400\" />\n",
    "\n",
    "(b)  \n",
    "the new possibility is $9/16$, much higher than before\n",
    "\n",
    "(c) The estimation stays the same.\n"
   ]
  },
  {
   "cell_type": "markdown",
   "metadata": {},
   "source": [
    "### Exercise 2: Bayes Filter"
   ]
  },
  {
   "cell_type": "markdown",
   "metadata": {},
   "source": [
    "(a)  \n",
    "We assume:  \n",
    "1. $p(x_0=clean) = p(x_0=dirty) = 0.5$  \n",
    "2. $p(x_1=clean|u=clean, x_0= clean)=0$\n",
    "\n",
    "<img src=\"./imgs/solution4_2a.jpg\" width=\"800\" />\n",
    "\n",
    "(b)  \n",
    "when $p(x_0 = clean) = 1$, $p(x_1=clean|u=clean,z=clean)=1$\n",
    "\n",
    "\n"
   ]
  }
 ],
 "metadata": {
  "language_info": {
   "name": "python",
   "codemirror_mode": {
    "name": "ipython",
    "version": 3
   }
  },
  "orig_nbformat": 2,
  "file_extension": ".py",
  "mimetype": "text/x-python",
  "name": "python",
  "npconvert_exporter": "python",
  "pygments_lexer": "ipython3",
  "version": 3
 },
 "nbformat": 4,
 "nbformat_minor": 2
}