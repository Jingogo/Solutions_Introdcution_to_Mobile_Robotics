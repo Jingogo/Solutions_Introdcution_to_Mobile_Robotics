{
 "nbformat": 4,
 "nbformat_minor": 2,
 "metadata": {
  "language_info": {
   "name": "python",
   "codemirror_mode": {
    "name": "ipython",
    "version": 3
   }
  },
  "orig_nbformat": 2,
  "file_extension": ".py",
  "mimetype": "text/x-python",
  "name": "python",
  "npconvert_exporter": "python",
  "pygments_lexer": "ipython3",
  "version": 3
 },
 "cells": [
  {
   "cell_type": "markdown",
   "metadata": {},
   "source": [
    "### Exercise 2: Data Association"
   ]
  },
  {
   "cell_type": "markdown",
   "metadata": {},
   "source": [
    "2a\n",
    "\n",
    "1. When both measurements are new landmarks, there is one options.\n",
    "2. When both measurements are noise, there is one option.\n",
    "3. When one measurement is new landmark, one is noise, there are two options.\n",
    "4. When one measurement is exsited landmark, one is new, there are four options.\n",
    "5. When one measurement is exsited landmark, one is noise, there are four options.\n",
    "6. When both measurements are exsited landmarks, there are two options.\n",
    "\n",
    "In total, there are 14 options."
   ]
  },
  {
   "cell_type": "markdown",
   "metadata": {},
   "source": [
    "2b\n",
    "\n",
    "There are still 7 solutions. \n",
    "\n",
    "When both measurements are existed landmarks, the map stays the same.\n"
   ]
  }
 ]
}