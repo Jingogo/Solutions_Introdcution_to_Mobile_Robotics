{
 "nbformat": 4,
 "nbformat_minor": 2,
 "metadata": {
  "language_info": {
   "name": "python",
   "codemirror_mode": {
    "name": "ipython",
    "version": 3
   },
   "version": "3.8.1-final"
  },
  "orig_nbformat": 2,
  "file_extension": ".py",
  "mimetype": "text/x-python",
  "name": "python",
  "npconvert_exporter": "python",
  "pygments_lexer": "ipython3",
  "version": 3,
  "kernelspec": {
   "name": "python38164bitmobileroboticscondad3de378b75094aa28419a29b011e8df5",
   "display_name": "Python 3.8.1 64-bit ('mobile_robotics': conda)"
  }
 },
 "cells": [
  {
   "cell_type": "markdown",
   "metadata": {},
   "source": [
    "### Exercise 1: Discrete Filter"
   ]
  },
  {
   "cell_type": "code",
   "execution_count": 2,
   "metadata": {},
   "outputs": [
    {
     "name": "stdout",
     "output_type": "stream",
     "text": "[0. 0. 0. 0. 0. 0. 0. 0. 0. 1. 0. 0. 0. 0. 0. 0. 0. 0. 0. 0.]\n"
    }
   ],
   "source": [
    "import numpy as np\n",
    "bel = np.zeros(20)\n",
    "bel[9] = 1.0\n",
    "\n",
    "def dicreteFilter(bel, u):\n",
    "    bel_new = []\n",
    "    for i in range(bel):\n",
    "        if u == 1:\n",
    "            if i == 0:\n",
    "                bel\n",
    "        if i==0         \n",
    "        bel_new[0] = 0.25*bel[0]\n",
    "        bel_new[1] = 0.5*bel[0] + 0.25*bel[1]\n",
    "        bel_new[-1] = 0.25 *bel[-3] + 0.5*bel[-2] + bel[-1]\n",
    "        for i in range(2,len(bel)):\n",
    "            bel_new[i] = 0.25 *bel[i-2] + 0.5*bel[i-1] + 0.25*bel[i]\n",
    "\n",
    "    if u == \"move_backward\":\n",
    "        bel_new[-1] = 0.25*bel[0]\n",
    "        bel_new[-2] = 0.5*bel[0] + 0.25*bel[1]\n",
    "        bel_new[0] = 0.25 *bel[-3] + 0.5*bel[-2] + bel[-1]\n",
    "        for i in range(1,len(bel)-2):\n",
    "            bel_new[i] = 0.25 *bel[i+2] + 0.5*bel[i+1] + 0.25*bel[i]\n",
    "        "
   ]
  },
  {
   "cell_type": "code",
   "execution_count": null,
   "metadata": {},
   "outputs": [],
   "source": []
  }
 ]
}