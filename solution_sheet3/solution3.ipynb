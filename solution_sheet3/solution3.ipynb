{
 "nbformat": 4,
 "nbformat_minor": 2,
 "metadata": {
  "language_info": {
   "name": "python",
   "codemirror_mode": {
    "name": "ipython",
    "version": 3
   }
  },
  "orig_nbformat": 2,
  "file_extension": ".py",
  "mimetype": "text/x-python",
  "name": "python",
  "npconvert_exporter": "python",
  "pygments_lexer": "ipython3",
  "version": 3
 },
 "cells": [
  {
   "cell_type": "markdown",
   "metadata": {},
   "source": [
    "### Exercise 1: Locomotion"
   ]
  },
  {
   "cell_type": "markdown",
   "metadata": {},
   "source": [
    "(a)\n",
    "The minimal number of steering commands $(vl, vr, t)$ is two.\n",
    "\n",
    "**Explaination**:\n",
    "Differential drive robots can not move directly along the wheels’ common axis. So it takes at least two steps for the robot to move from pose $(1.0, 2.0, \\pi/2)$ to pose $(1.5, 2.0, \\pi/2)$.\n",
    "\n",
    "For example, as shown in the figure below, the robot can first rotate by $\\pi$ along the midpoint of the wheel axis, then the robot rotate by $\\pi$ along the midpoint between the start point $A$ and the destination $B$ \n",
    "\n",
    "<img src=\"./imgs/solution3_ex1a.jpg\" width=\"400\" height=\"300\" />\n",
    "\n"
   ]
  },
  {
   "cell_type": "markdown",
   "metadata": {},
   "source": [
    "(b)\n",
    "\n",
    "The the length of the shortest trajectory is $\\frac{\\pi l}{2}$.\n",
    "\n",
    "<img src=\"./imgs/solution3_ex1b.jpg\" width=\"400\" height=\"300\" />\n",
    "\n"
   ]
  },
  {
   "cell_type": "markdown",
   "metadata": {},
   "source": [
    "(c)\n",
    "\n",
    "1. The robot rotates (clockwise) by $\\pi/2$ in place. The steering commands $(v_l, v_r, t)$ is $(v, -v, \\frac{\\pi l}{4v})$\n",
    "2. The robot moves in straight liine from $(1.0,2.0)$ to $(1.5,2.0)$. The steering commands is $(v, v, \\frac{1}{2v})$ \n",
    "3. The robot rotates (counter-clockwise) by $\\pi/2$ in place. The steering commands $(v_l, v_r, t)$ is $(-v, v, \\frac{\\pi l}{4v})$"
   ]
  },
  {
   "cell_type": "markdown",
   "metadata": {},
   "source": [
    "(d)\n",
    "\n",
    "The length $S$ is the distance between the start point and the destination and $S = 0.5m$."
   ]
  },
  {
   "cell_type": "markdown",
   "metadata": {},
   "source": []
  }
 ]
}