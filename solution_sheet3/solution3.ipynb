{
 "nbformat": 4,
 "nbformat_minor": 2,
 "metadata": {
  "language_info": {
   "name": "python",
   "codemirror_mode": {
    "name": "ipython",
    "version": 3
   },
   "version": "3.8.1-final"
  },
  "orig_nbformat": 2,
  "file_extension": ".py",
  "mimetype": "text/x-python",
  "name": "python",
  "npconvert_exporter": "python",
  "pygments_lexer": "ipython3",
  "version": 3,
  "kernelspec": {
   "name": "python38164bitmobileroboticscondad3de378b75094aa28419a29b011e8df5",
   "display_name": "Python 3.8.1 64-bit ('mobile_robotics': conda)"
  }
 },
 "cells": [
  {
   "cell_type": "markdown",
   "execution_count": null,
   "metadata": {},
   "outputs": [],
   "source": [
    "### Exercise 1: Locomotion"
   ]
  },
  {
   "cell_type": "markdown",
   "execution_count": null,
   "metadata": {},
   "outputs": [],
   "source": [
    "(a)\n",
    "The minimal number of steering commands $(vl, vr, t)$ is two.\n",
    "\n",
    "**Explaination**:\n",
    "Differential drive robots can not move directly along the wheels’ common axis. So it takes at least two steps for the robot to move from pose $(1.0, 2.0, \\pi/2)$ to pose $(1.5, 2.0, \\pi/2)$.\n",
    "\n",
    "For example, as shown in the figure below, the robot can first rotate by $\\pi$ along the midpoint of the wheel axis, then the robot rotate by $\\pi$ along the midpoint between the start point $A$ and the destination $B$ \n",
    "\n",
    "<img src=\"./imgs/solution3_ex1a.jpg\" width=\"400\" height=\"300\" />\n",
    "\n"
   ]
  },
  {
   "cell_type": "markdown",
   "execution_count": null,
   "metadata": {},
   "outputs": [],
   "source": [
    "(b)\n",
    "\n",
    "The the length of the shortest trajectory is $\\frac{\\pi}{4}m$.\n",
    "\n",
    "<img src=\"./imgs/solution3_ex1b.jpg\" width=\"400\" height=\"300\" />\n",
    "\n"
   ]
  },
  {
   "cell_type": "markdown",
   "execution_count": null,
   "metadata": {},
   "outputs": [],
   "source": [
    "(c)\n",
    "\n",
    "1. The robot rotates (clockwise) by $\\pi/2$ in place. The steering commands $(v_l, v_r, t)$ is $(v, -v, \\frac{\\pi l}{4v})$\n",
    "2. The robot moves in straight line from $(1.0,2.0)$ to $(1.5,2.0)$. The steering commands is $(v, v, \\frac{1}{2v})$ \n",
    "3. The robot rotates (counter-clockwise) by $\\pi/2$ in place. The steering commands $(v_l, v_r, t)$ is $(-v, v, \\frac{\\pi l}{4v})$"
   ]
  },
  {
   "cell_type": "markdown",
   "execution_count": null,
   "metadata": {},
   "outputs": [],
   "source": [
    "(d)\n",
    "\n",
    "The length $S$ is the distance between the start point and the destination and $S = 0.5m$."
   ]
  },
  {
   "cell_type": "markdown",
   "execution_count": null,
   "metadata": {},
   "outputs": [],
   "source": [
    "### Exercise 2: Differential Drive Implementation"
   ]
  },
  {
   "cell_type": "code",
   "execution_count": null,
   "metadata": {},
   "outputs": [],
   "source": []
  },
  {
   "cell_type": "code",
   "execution_count": 54,
   "metadata": {},
   "outputs": [],
   "source": [
    "# 2a\n",
    "import math\n",
    "import numpy as np\n",
    "\n",
    "eps = 1e-3\n",
    "\n",
    "def diffdrive(x, y, theta, v_left, v_right, t, l):\n",
    "    x_new, y_new, theta_new = [0, 0, 0]\n",
    "    if abs(v_left-v_right) < eps:\n",
    "        x_new = v_left*math.cos(theta)*t + x\n",
    "        y_new = v_left*math.sin(theta)*t + y\n",
    "        theta_new = theta\n",
    "    else:\n",
    "        omega = (v_right - v_left)/l\n",
    "        R = 0.5*l*(v_right + v_left)/(v_right - v_left)\n",
    "        ICC = [x-R*math.sin(theta), y+R*math.cos(theta)]\n",
    "        delta_theta = omega *t\n",
    "        pose_to_ICC = np.array([[x-ICC[0]],[y-ICC[1]],[theta]])\n",
    "        x_new = math.cos(delta_theta)*(x-ICC[0]) - math.sin(delta_theta)*(y-ICC[1]) + ICC[0]\n",
    "        y_new = math.sin(delta_theta)*(x-ICC[0]) + math.cos(delta_theta)*(y-ICC[1]) + ICC[1]\n",
    "        theta_new = theta + delta_theta\n",
    "\n",
    "    return [x_new, y_new, theta_new]\n",
    "\n"
   ]
  },
  {
   "cell_type": "code",
   "execution_count": 55,
   "metadata": {},
   "outputs": [
    {
     "name": "stdout",
     "output_type": "stream",
     "text": "[1.5, 2.9, 1.5707963267948966]\n[1.5, 2.9, 1.1707963267948966]\n[1.6396758098815527, 3.035655185914644, 0.3707963267948966]\n"
    }
   ],
   "source": [
    "# 2b\n",
    "x, y, theta = [1.5, 2.0, np.pi/2] \n",
    "l = 0.5\n",
    "v_left, v_right, t = 0.3, 0.3, 3\n",
    "\n",
    "new_pose = diffdrive(x, y, theta, v_left, v_right, t, l)\n",
    "print(new_pose)\n",
    "#expected_pose = np.array([[1], [2.9], [np.pi/2]])\n",
    "\n",
    "x, y, theta = new_pose\n",
    "v_left, v_right, t = [0.1, -0.1, 1]\n",
    "new_pose = diffdrive(x, y, theta, v_left, v_right, t, l)\n",
    "print(new_pose)\n",
    "#expected_pose = np.array([[1], [2.9], [np.pi/2 - 0.4]])\n",
    "\n",
    "x, y, theta = new_pose\n",
    "v_left, v_right, t = [0.2, 0, 2]\n",
    "new_pose = diffdrive(x, y, theta, v_left, v_right, t, l)\n",
    "print(new_pose)"
   ]
  },
  {
   "cell_type": "code",
   "execution_count": null,
   "metadata": {},
   "outputs": [],
   "source": []
  }
 ]
}