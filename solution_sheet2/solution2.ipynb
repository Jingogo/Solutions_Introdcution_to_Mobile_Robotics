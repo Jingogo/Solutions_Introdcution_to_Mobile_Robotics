{
 "nbformat": 4,
 "nbformat_minor": 2,
 "metadata": {
  "language_info": {
   "name": "python",
   "codemirror_mode": {
    "name": "ipython",
    "version": 3
   },
   "version": "3.8.1-final"
  },
  "orig_nbformat": 2,
  "file_extension": ".py",
  "mimetype": "text/x-python",
  "name": "python",
  "npconvert_exporter": "python",
  "pygments_lexer": "ipython3",
  "version": 3,
  "kernelspec": {
   "name": "python38164bitmobileroboticscondad3de378b75094aa28419a29b011e8df5",
   "display_name": "Python 3.8.1 64-bit ('mobile_robotics': conda)"
  }
 },
 "cells": [
  {
   "cell_type": "markdown",
   "execution_count": null,
   "metadata": {},
   "outputs": [],
   "source": [
    "### Exercise 1: Linear Algebra"
   ]
  },
  {
   "cell_type": "markdown",
   "execution_count": null,
   "metadata": {},
   "outputs": [],
   "source": [
    "  (a) \n",
    "  - Matrix $A$ is not symmetric, so it is not symmetric positive definite\n",
    "    \n",
    "  - Matrix B is sysmentric, because its pivots are all positive\n"
   ]
  },
  {
   "cell_type": "markdown",
   "execution_count": null,
   "metadata": {},
   "outputs": [],
   "source": [
    "(b)  \n",
    "- $C+\\mu I$ is not symmetric positive definete when:  \n",
    "\n",
    "  $-3 + \\mu \\leq 0$ or  $1 + \\mu \\leq 0$. \n",
    "\n",
    "  So,  \n",
    "\n",
    "  $\\mu \\leq 3$ or $\\mu \\leq -1$.  \n",
    " \n",
    "  We can conclude that the largest $\\mu$ is 3 for which $C+\\mu$ is not a symmetric positive\n",
    "  definite matrix."
   ]
  },
  {
   "cell_type": "markdown",
   "metadata": {},
   "source": [
    "(c)"
   ]
  },
  {
   "cell_type": "code",
   "execution_count": 44,
   "metadata": {},
   "outputs": [],
   "source": [
    "import numpy as np\n",
    "\n",
    "def is_Orthogonal(A):\n",
    "    is_orthogonal = False\n",
    "    if A.shape[0] == A.shape[1]:\n",
    "        eps = 1e-3\n",
    "        product = np.matmul(A, np.transpose(A))\n",
    "        I = np.identity(A.shape[0])\n",
    "        if np.sum(np.abs(product-I)) < eps:\n",
    "            is_orthogonal = True\n",
    "    return is_orthogonal"
   ]
  },
  {
   "cell_type": "markdown",
   "metadata": {},
   "source": [
    "(d)"
   ]
  },
  {
   "cell_type": "code",
   "execution_count": 45,
   "metadata": {},
   "outputs": [
    {
     "name": "stdout",
     "output_type": "stream",
     "text": "True\n"
    }
   ],
   "source": [
    "D = 1/3.0*np.array([[2,2,-1],[2,-1,2],[-1,2,2]])\n",
    "print(is_Orthogonal(D))"
   ]
  },
  {
   "cell_type": "markdown",
   "metadata": {},
   "source": [
    "### Exercise 2: 2D Transformations as Affine Matrices"
   ]
  },
  {
   "cell_type": "markdown",
   "metadata": {},
   "source": [
    "(a) \n",
    "$$\n",
    "\\begin{aligned} \n",
    "\\mathbf{p} &= \n",
    "\\mathbf{T}_{1}\\mathbf{l} \\\\\n",
    "&= \\begin{bmatrix}\n",
    "\\mathbf{R} & t \\\\\n",
    "0 & 1 \n",
    "\\end{bmatrix} \n",
    "\\times \n",
    "\\begin{bmatrix} \n",
    "l_x \\\\\n",
    "l_y \\\\\n",
    "1\n",
    "\\end{bmatrix} \\\\\n",
    "&=\\begin{bmatrix} \n",
    "\\cos( \\theta _{1}) & -\\sin( \\theta _{1}) & x_{1}\\\\\n",
    "\\sin( \\theta _{1}) & \\cos( \\theta _{1}) & y_{1}\\\\\n",
    "0 & 0 & 1\n",
    "\\end{bmatrix} \\times \\begin{bmatrix}\n",
    "l_{x}\\\\\n",
    "l_{y}\\\\\n",
    "1\n",
    "\\end{bmatrix} \\\\\n",
    "&= \\begin{bmatrix}\n",
    "l_{x}\\cos( \\theta _{1}) - l_{y}\\sin( \\theta _{1}) + x_1\\\\\n",
    "l_{x}\\sin( \\theta _{1}) +l_{y}\\cos( \\theta _{1}) + y_1\\\\\n",
    "1\n",
    "\\end{bmatrix} \n",
    "\\end{aligned}\n",
    "$$"
   ]
  },
  {
   "cell_type": "markdown",
   "metadata": {},
   "source": [
    "(b)\n",
    "$$\n",
    "\\begin{aligned} \n",
    "\\mathbf{l} &= {\\mathbf{T}_{1}}^{-1}\\mathbf{p} \\\\\n",
    "&= \\begin{bmatrix}\n",
    "\\mathbf{R}^{-1} & \\mathbf{R}^{-1}\\mathbf{t}\\\\\n",
    "0 & 1 \n",
    "\\end{bmatrix} \\times \\mathbf{p}\\\\\n",
    "&=\\begin{bmatrix} \n",
    "\\cos( \\theta _{1}) & \\sin( \\theta _{1}) & -x_{1}\\\\\n",
    "- \\sin( \\theta _{1}) & \\cos( \\theta _{1}) & -y_{1}\\\\\n",
    "0 & 0 & 1\n",
    "\\end{bmatrix} \\times \\begin{bmatrix}\n",
    "p_{x}\\\\\n",
    "p_{y}\\\\\n",
    "1\n",
    "\\end{bmatrix} \\\\\n",
    "&= \\begin{bmatrix}\n",
    "p_{x}\\cos( \\theta _{1}) + p_{y}\\sin( \\theta _{1}) + x_1\\\\\n",
    "-p_{x}\\sin( \\theta _{1}) +p_{y}\\cos( \\theta _{1}) + y_1\\\\\n",
    "1\n",
    "\\end{bmatrix} \n",
    "\\end{aligned}\n",
    "$$"
   ]
  },
  {
   "cell_type": "markdown",
   "metadata": {},
   "source": [
    "(c) \n",
    "\n",
    "- 三角链式，矩阵相加\n",
    "\n",
    "<img src=\"./solution2_ex2c1.jpg\" width=\"250\" height=\"250\" />\n",
    "<img src=\"./solution2_ex2c2.jpg\" width=\"250\" height=\"250\" />\n",
    "<img src=\"./solution2_ex2c3.jpg\" width=\"250\" height=\"250\" />\n",
    "\n",
    "- $\\mathbf{p}$ w.r.t $\\mathbf{x}_2$ --> $\\mathbf{p}$ w.r.t global frame --> $\\mathbf{p}$ w.r.t $\\mathbf{x}_1$\n",
    "\n",
    "$$\n",
    "\\begin{aligned}\n",
    "\\mathbf{T}_{12} &= {\\mathbf{T}_1}^{-1}{\\mathbf{T}_2} \\\\\n",
    "&=\n",
    "\\begin{bmatrix} \n",
    "\\cos( \\theta _{1}) & \\sin( \\theta _{1}) & -x_{1}\\\\\n",
    "-\\sin( \\theta _{1}) & \\cos( \\theta _{1}) & -y_{1}\\\\\n",
    "0 & 0 & 1\n",
    "\\end{bmatrix}\n",
    "\\times\n",
    "\\begin{bmatrix} \n",
    "\\cos( \\theta _{2}) & -\\sin( \\theta _{2}) & x_{2}\\\\\n",
    "\\sin( \\theta _{2}) & \\cos( \\theta _{2}) & y_{2}\\\\\n",
    "0 & 0 & 1\n",
    "\\end{bmatrix} \\\\\n",
    "& \\neq \n",
    "\\begin{bmatrix} \n",
    "\\cos( \\theta _{2} - \\theta _{1} ) & -\\sin( \\theta _{2} - \\theta _{1}) & x_{2}-x_1\\\\\n",
    "\\sin( \\theta _{2} - \\theta _{2}) & \\cos( \\theta _{2} -\\theta _{1}) & y_{2}-y_1\\\\\n",
    "0 & 0 & 1\n",
    "\\end{bmatrix}\n",
    "\\end{aligned}\n",
    "$$\n",
    "because position of $\\mathbf{x}_2$ w.r.t $\\mathbf{x}_1$ is not $(x_2-x_1, y_2-y_1)^{T}$"
   ]
  },
  {
   "cell_type": "code",
   "execution_count": null,
   "metadata": {},
   "outputs": [],
   "source": []
  }
 ]
}